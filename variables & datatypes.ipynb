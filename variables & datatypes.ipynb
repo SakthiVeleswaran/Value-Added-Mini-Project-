{
 "cells": [
  {
   "cell_type": "markdown",
   "id": "770cdaa4",
   "metadata": {},
   "source": [
    "## Variables"
   ]
  },
  {
   "cell_type": "code",
   "execution_count": 2,
   "id": "ea6e729e",
   "metadata": {},
   "outputs": [],
   "source": [
    "a = 10"
   ]
  },
  {
   "cell_type": "code",
   "execution_count": 3,
   "id": "9fac88f1",
   "metadata": {},
   "outputs": [
    {
     "ename": "SyntaxError",
     "evalue": "invalid syntax (<ipython-input-3-ac7d80b7bfcf>, line 1)",
     "output_type": "error",
     "traceback": [
      "\u001b[1;36m  File \u001b[1;32m\"<ipython-input-3-ac7d80b7bfcf>\"\u001b[1;36m, line \u001b[1;32m1\u001b[0m\n\u001b[1;33m    b 1\u001b[0m\n\u001b[1;37m      ^\u001b[0m\n\u001b[1;31mSyntaxError\u001b[0m\u001b[1;31m:\u001b[0m invalid syntax\n"
     ]
    }
   ],
   "source": [
    "b 1"
   ]
  },
  {
   "cell_type": "code",
   "execution_count": 4,
   "id": "23c1b7d6",
   "metadata": {},
   "outputs": [],
   "source": [
    "wave=76\n"
   ]
  },
  {
   "cell_type": "markdown",
   "id": "024f7aec",
   "metadata": {},
   "source": [
    "## Rules\n",
    "1. Variable can be a letter or a word\n",
    "2. Variable can be of alpha numeric form the vice verca is not allowed.\n",
    "3.Only '_' is allowed in special char.\n",
    "4.Case sensitive"
   ]
  },
  {
   "cell_type": "code",
   "execution_count": 5,
   "id": "1de689ca",
   "metadata": {},
   "outputs": [],
   "source": [
    "stud1 = 57"
   ]
  },
  {
   "cell_type": "code",
   "execution_count": 6,
   "id": "8da6a379",
   "metadata": {},
   "outputs": [
    {
     "data": {
      "text/plain": [
       "57"
      ]
     },
     "execution_count": 6,
     "metadata": {},
     "output_type": "execute_result"
    }
   ],
   "source": [
    "stud1"
   ]
  },
  {
   "cell_type": "code",
   "execution_count": 7,
   "id": "d4498cbe",
   "metadata": {},
   "outputs": [],
   "source": [
    "student_mark = 55"
   ]
  },
  {
   "cell_type": "code",
   "execution_count": 8,
   "id": "ef1ddf1a",
   "metadata": {},
   "outputs": [
    {
     "data": {
      "text/plain": [
       "55"
      ]
     },
     "execution_count": 8,
     "metadata": {},
     "output_type": "execute_result"
    }
   ],
   "source": [
    "student_mark"
   ]
  },
  {
   "cell_type": "code",
   "execution_count": 9,
   "id": "130cfa91",
   "metadata": {},
   "outputs": [],
   "source": [
    "_s4 =22"
   ]
  },
  {
   "cell_type": "code",
   "execution_count": 10,
   "id": "ed03bbf0",
   "metadata": {},
   "outputs": [
    {
     "data": {
      "text/plain": [
       "22"
      ]
     },
     "execution_count": 10,
     "metadata": {},
     "output_type": "execute_result"
    }
   ],
   "source": [
    "_s4"
   ]
  },
  {
   "cell_type": "markdown",
   "id": "44bd11bf",
   "metadata": {},
   "source": [
    "## Datatypes\n",
    "14 data types in 7 category<br>\n",
    "\n",
    "1, String or Character - string\n",
    "2, Numeric - integer,float,complex\n",
    "3, List - list,tuple,range\n",
    "4, Mapping - dictionary\n",
    "5, Set - set,frozenset\n",
    "6, Boolean - bool\n",
    "7, Binary - bytes,bytearray,memoryview"
   ]
  },
  {
   "cell_type": "markdown",
   "id": "3d25ff89",
   "metadata": {},
   "source": [
    "## String"
   ]
  },
  {
   "cell_type": "code",
   "execution_count": 2,
   "id": "177a6ddc",
   "metadata": {},
   "outputs": [],
   "source": [
    "name ='class BCA'"
   ]
  },
  {
   "cell_type": "code",
   "execution_count": 4,
   "id": "cd5cc7db",
   "metadata": {},
   "outputs": [
    {
     "data": {
      "text/plain": [
       "'class BCA'"
      ]
     },
     "execution_count": 4,
     "metadata": {},
     "output_type": "execute_result"
    }
   ],
   "source": [
    "name"
   ]
  },
  {
   "cell_type": "code",
   "execution_count": 14,
   "id": "3b05151e",
   "metadata": {},
   "outputs": [],
   "source": [
    "name2 =\"next class\""
   ]
  },
  {
   "cell_type": "code",
   "execution_count": 15,
   "id": "5aa22ed7",
   "metadata": {},
   "outputs": [
    {
     "data": {
      "text/plain": [
       "'next class'"
      ]
     },
     "execution_count": 15,
     "metadata": {},
     "output_type": "execute_result"
    }
   ],
   "source": [
    "name2"
   ]
  },
  {
   "cell_type": "code",
   "execution_count": 16,
   "id": "e5b0e21a",
   "metadata": {},
   "outputs": [
    {
     "data": {
      "text/plain": [
       "str"
      ]
     },
     "execution_count": 16,
     "metadata": {},
     "output_type": "execute_result"
    }
   ],
   "source": [
    "type(name)"
   ]
  },
  {
   "cell_type": "code",
   "execution_count": 19,
   "id": "fc3a4999",
   "metadata": {},
   "outputs": [],
   "source": [
    "name3 ='32'"
   ]
  },
  {
   "cell_type": "code",
   "execution_count": 20,
   "id": "78a29016",
   "metadata": {},
   "outputs": [
    {
     "data": {
      "text/plain": [
       "'32'"
      ]
     },
     "execution_count": 20,
     "metadata": {},
     "output_type": "execute_result"
    }
   ],
   "source": [
    "name3"
   ]
  },
  {
   "cell_type": "code",
   "execution_count": 21,
   "id": "3024a824",
   "metadata": {},
   "outputs": [
    {
     "data": {
      "text/plain": [
       "str"
      ]
     },
     "execution_count": 21,
     "metadata": {},
     "output_type": "execute_result"
    }
   ],
   "source": [
    "type(name3)"
   ]
  },
  {
   "cell_type": "code",
   "execution_count": 22,
   "id": "9ae9b257",
   "metadata": {},
   "outputs": [],
   "source": [
    "name ='sowmiya'"
   ]
  },
  {
   "cell_type": "code",
   "execution_count": 23,
   "id": "139a750f",
   "metadata": {},
   "outputs": [
    {
     "data": {
      "text/plain": [
       "'sowmiya'"
      ]
     },
     "execution_count": 23,
     "metadata": {},
     "output_type": "execute_result"
    }
   ],
   "source": [
    "name"
   ]
  },
  {
   "cell_type": "code",
   "execution_count": 24,
   "id": "a4038c0f",
   "metadata": {},
   "outputs": [],
   "source": [
    "name2 =\"sowmiya\""
   ]
  },
  {
   "cell_type": "code",
   "execution_count": 25,
   "id": "010f39ed",
   "metadata": {},
   "outputs": [
    {
     "data": {
      "text/plain": [
       "'sowmiya'"
      ]
     },
     "execution_count": 25,
     "metadata": {},
     "output_type": "execute_result"
    }
   ],
   "source": [
    "name2"
   ]
  },
  {
   "cell_type": "code",
   "execution_count": 26,
   "id": "f105aae4",
   "metadata": {},
   "outputs": [],
   "source": [
    "a5 = \"Im 'sowmi'\""
   ]
  },
  {
   "cell_type": "code",
   "execution_count": 27,
   "id": "6df1f081",
   "metadata": {},
   "outputs": [
    {
     "data": {
      "text/plain": [
       "\"Im 'sowmi'\""
      ]
     },
     "execution_count": 27,
     "metadata": {},
     "output_type": "execute_result"
    }
   ],
   "source": [
    "a5"
   ]
  },
  {
   "cell_type": "code",
   "execution_count": 28,
   "id": "eae378d4",
   "metadata": {},
   "outputs": [
    {
     "data": {
      "text/plain": [
       "str"
      ]
     },
     "execution_count": 28,
     "metadata": {},
     "output_type": "execute_result"
    }
   ],
   "source": [
    "type(a5)"
   ]
  },
  {
   "cell_type": "code",
   "execution_count": 29,
   "id": "42339b35",
   "metadata": {},
   "outputs": [],
   "source": [
    "a6 = 'im \"sowmi\"'"
   ]
  },
  {
   "cell_type": "code",
   "execution_count": 30,
   "id": "1c8d6bba",
   "metadata": {},
   "outputs": [
    {
     "data": {
      "text/plain": [
       "'im \"sowmi\"'"
      ]
     },
     "execution_count": 30,
     "metadata": {},
     "output_type": "execute_result"
    }
   ],
   "source": [
    "a6"
   ]
  },
  {
   "cell_type": "code",
   "execution_count": 32,
   "id": "73ddd2d3",
   "metadata": {},
   "outputs": [
    {
     "data": {
      "text/plain": [
       "str"
      ]
     },
     "execution_count": 32,
     "metadata": {},
     "output_type": "execute_result"
    }
   ],
   "source": [
    "type(a6)"
   ]
  },
  {
   "cell_type": "code",
   "execution_count": 33,
   "id": "f4238009",
   "metadata": {},
   "outputs": [],
   "source": [
    "a8 =\"6789\""
   ]
  },
  {
   "cell_type": "code",
   "execution_count": 34,
   "id": "a455a595",
   "metadata": {},
   "outputs": [
    {
     "data": {
      "text/plain": [
       "'6789'"
      ]
     },
     "execution_count": 34,
     "metadata": {},
     "output_type": "execute_result"
    }
   ],
   "source": [
    "a8"
   ]
  },
  {
   "cell_type": "code",
   "execution_count": 35,
   "id": "7c3c7091",
   "metadata": {},
   "outputs": [
    {
     "data": {
      "text/plain": [
       "str"
      ]
     },
     "execution_count": 35,
     "metadata": {},
     "output_type": "execute_result"
    }
   ],
   "source": [
    "type(a8)"
   ]
  },
  {
   "cell_type": "code",
   "execution_count": 36,
   "id": "3ef77eab",
   "metadata": {},
   "outputs": [],
   "source": [
    "df = 89"
   ]
  },
  {
   "cell_type": "code",
   "execution_count": 37,
   "id": "05bfb395",
   "metadata": {},
   "outputs": [
    {
     "data": {
      "text/plain": [
       "89"
      ]
     },
     "execution_count": 37,
     "metadata": {},
     "output_type": "execute_result"
    }
   ],
   "source": [
    "df"
   ]
  },
  {
   "cell_type": "code",
   "execution_count": 40,
   "id": "5028e537",
   "metadata": {},
   "outputs": [],
   "source": [
    "df4 = \"98\""
   ]
  },
  {
   "cell_type": "code",
   "execution_count": 41,
   "id": "d85a51c7",
   "metadata": {},
   "outputs": [
    {
     "data": {
      "text/plain": [
       "'98'"
      ]
     },
     "execution_count": 41,
     "metadata": {},
     "output_type": "execute_result"
    }
   ],
   "source": [
    "df4"
   ]
  },
  {
   "cell_type": "markdown",
   "id": "377c1f4d",
   "metadata": {},
   "source": [
    "## Numeric\n",
    "## Integer"
   ]
  },
  {
   "cell_type": "code",
   "execution_count": 47,
   "id": "418cd1e6",
   "metadata": {},
   "outputs": [],
   "source": [
    "num = 78"
   ]
  },
  {
   "cell_type": "code",
   "execution_count": 48,
   "id": "ff3915cc",
   "metadata": {},
   "outputs": [
    {
     "data": {
      "text/plain": [
       "int"
      ]
     },
     "execution_count": 48,
     "metadata": {},
     "output_type": "execute_result"
    }
   ],
   "source": [
    "type(num)"
   ]
  },
  {
   "cell_type": "code",
   "execution_count": 51,
   "id": "6b5acc15",
   "metadata": {},
   "outputs": [],
   "source": [
    "num = 6879"
   ]
  },
  {
   "cell_type": "code",
   "execution_count": 52,
   "id": "512a04dc",
   "metadata": {},
   "outputs": [
    {
     "data": {
      "text/plain": [
       "int"
      ]
     },
     "execution_count": 52,
     "metadata": {},
     "output_type": "execute_result"
    }
   ],
   "source": [
    "type(num)"
   ]
  },
  {
   "cell_type": "code",
   "execution_count": 57,
   "id": "6394c5a5",
   "metadata": {},
   "outputs": [],
   "source": [
    "sowmi = 9458"
   ]
  },
  {
   "cell_type": "code",
   "execution_count": 58,
   "id": "d8dcc2cd",
   "metadata": {},
   "outputs": [
    {
     "data": {
      "text/plain": [
       "9458"
      ]
     },
     "execution_count": 58,
     "metadata": {},
     "output_type": "execute_result"
    }
   ],
   "source": [
    "sowmi"
   ]
  },
  {
   "cell_type": "code",
   "execution_count": 59,
   "id": "ef95ea7c",
   "metadata": {},
   "outputs": [
    {
     "data": {
      "text/plain": [
       "int"
      ]
     },
     "execution_count": 59,
     "metadata": {},
     "output_type": "execute_result"
    }
   ],
   "source": [
    "type(sowmi)"
   ]
  },
  {
   "cell_type": "markdown",
   "id": "6698ba9f",
   "metadata": {},
   "source": [
    "## float"
   ]
  },
  {
   "cell_type": "code",
   "execution_count": 60,
   "id": "52fd4f17",
   "metadata": {},
   "outputs": [],
   "source": [
    "dec =7.9"
   ]
  },
  {
   "cell_type": "code",
   "execution_count": 61,
   "id": "c32b272c",
   "metadata": {},
   "outputs": [
    {
     "data": {
      "text/plain": [
       "7.9"
      ]
     },
     "execution_count": 61,
     "metadata": {},
     "output_type": "execute_result"
    }
   ],
   "source": [
    "dec"
   ]
  },
  {
   "cell_type": "code",
   "execution_count": 62,
   "id": "69ce7598",
   "metadata": {},
   "outputs": [
    {
     "data": {
      "text/plain": [
       "float"
      ]
     },
     "execution_count": 62,
     "metadata": {},
     "output_type": "execute_result"
    }
   ],
   "source": [
    "type(dec)"
   ]
  },
  {
   "cell_type": "markdown",
   "id": "c4efce18",
   "metadata": {},
   "source": [
    "## Complex"
   ]
  },
  {
   "cell_type": "code",
   "execution_count": 63,
   "id": "19765f4b",
   "metadata": {},
   "outputs": [],
   "source": [
    "comp = 5+7j"
   ]
  },
  {
   "cell_type": "code",
   "execution_count": 64,
   "id": "63da297e",
   "metadata": {},
   "outputs": [
    {
     "data": {
      "text/plain": [
       "(5+7j)"
      ]
     },
     "execution_count": 64,
     "metadata": {},
     "output_type": "execute_result"
    }
   ],
   "source": [
    "comp"
   ]
  },
  {
   "cell_type": "code",
   "execution_count": 65,
   "id": "9e6593d0",
   "metadata": {},
   "outputs": [
    {
     "data": {
      "text/plain": [
       "complex"
      ]
     },
     "execution_count": 65,
     "metadata": {},
     "output_type": "execute_result"
    }
   ],
   "source": [
    "type(comp)"
   ]
  },
  {
   "cell_type": "markdown",
   "id": "f616ef5a",
   "metadata": {},
   "source": [
    "## List"
   ]
  },
  {
   "cell_type": "markdown",
   "id": "3943b519",
   "metadata": {},
   "source": [
    "### list"
   ]
  },
  {
   "cell_type": "code",
   "execution_count": 66,
   "id": "fe1a39dd",
   "metadata": {},
   "outputs": [],
   "source": [
    "numbers = [2,4,5,7,8]"
   ]
  },
  {
   "cell_type": "code",
   "execution_count": 67,
   "id": "d5352669",
   "metadata": {},
   "outputs": [
    {
     "data": {
      "text/plain": [
       "[2, 4, 5, 7, 8]"
      ]
     },
     "execution_count": 67,
     "metadata": {},
     "output_type": "execute_result"
    }
   ],
   "source": [
    "numbers"
   ]
  },
  {
   "cell_type": "code",
   "execution_count": 68,
   "id": "cc6a27a8",
   "metadata": {},
   "outputs": [
    {
     "data": {
      "text/plain": [
       "list"
      ]
     },
     "execution_count": 68,
     "metadata": {},
     "output_type": "execute_result"
    }
   ],
   "source": [
    "type(numbers)"
   ]
  },
  {
   "cell_type": "code",
   "execution_count": 82,
   "id": "73e54ab8",
   "metadata": {},
   "outputs": [],
   "source": [
    "list1 = [ \"BCA\",50,5.4,7+9j,50,7.9]"
   ]
  },
  {
   "cell_type": "code",
   "execution_count": 83,
   "id": "51bd77b7",
   "metadata": {},
   "outputs": [
    {
     "data": {
      "text/plain": [
       "['BCA', 50, 5.4, (7+9j), 50, 7.9]"
      ]
     },
     "execution_count": 83,
     "metadata": {},
     "output_type": "execute_result"
    }
   ],
   "source": [
    "list1"
   ]
  },
  {
   "cell_type": "code",
   "execution_count": 80,
   "id": "b491a436",
   "metadata": {},
   "outputs": [
    {
     "data": {
      "text/plain": [
       "list"
      ]
     },
     "execution_count": 80,
     "metadata": {},
     "output_type": "execute_result"
    }
   ],
   "source": [
    "type(list1)"
   ]
  },
  {
   "cell_type": "code",
   "execution_count": 87,
   "id": "0badac37",
   "metadata": {},
   "outputs": [
    {
     "data": {
      "text/plain": [
       "50"
      ]
     },
     "execution_count": 87,
     "metadata": {},
     "output_type": "execute_result"
    }
   ],
   "source": [
    "list1 [4]"
   ]
  },
  {
   "cell_type": "code",
   "execution_count": 6,
   "id": "11266fa0",
   "metadata": {},
   "outputs": [
    {
     "ename": "NameError",
     "evalue": "name 'list1' is not defined",
     "output_type": "error",
     "traceback": [
      "\u001b[1;31m---------------------------------------------------------------------------\u001b[0m",
      "\u001b[1;31mNameError\u001b[0m                                 Traceback (most recent call last)",
      "\u001b[1;32m<ipython-input-6-7a307ce1281a>\u001b[0m in \u001b[0;36m<module>\u001b[1;34m\u001b[0m\n\u001b[1;32m----> 1\u001b[1;33m \u001b[0mlist1\u001b[0m\u001b[1;33m[\u001b[0m\u001b[1;33m-\u001b[0m\u001b[1;36m3\u001b[0m\u001b[1;33m]\u001b[0m\u001b[1;33m\u001b[0m\u001b[1;33m\u001b[0m\u001b[0m\n\u001b[0m",
      "\u001b[1;31mNameError\u001b[0m: name 'list1' is not defined"
     ]
    }
   ],
   "source": [
    "list1[-3]"
   ]
  },
  {
   "cell_type": "markdown",
   "id": "f80e33db",
   "metadata": {},
   "source": [
    "## Tuple\n",
    "Collection of elements"
   ]
  },
  {
   "cell_type": "code",
   "execution_count": 1,
   "id": "a24dfcbc",
   "metadata": {},
   "outputs": [],
   "source": [
    "tup1 =(1,2,3,7+8j,'none',3.8)"
   ]
  },
  {
   "cell_type": "code",
   "execution_count": 2,
   "id": "5afda673",
   "metadata": {},
   "outputs": [
    {
     "data": {
      "text/plain": [
       "(1, 2, 3, (7+8j), 'none', 3.8)"
      ]
     },
     "execution_count": 2,
     "metadata": {},
     "output_type": "execute_result"
    }
   ],
   "source": [
    "tup1"
   ]
  },
  {
   "cell_type": "code",
   "execution_count": 3,
   "id": "d545ddf3",
   "metadata": {},
   "outputs": [
    {
     "data": {
      "text/plain": [
       "tuple"
      ]
     },
     "execution_count": 3,
     "metadata": {},
     "output_type": "execute_result"
    }
   ],
   "source": [
    "type(tup1)\n"
   ]
  },
  {
   "cell_type": "code",
   "execution_count": 7,
   "id": "087c2fa5",
   "metadata": {},
   "outputs": [
    {
     "ename": "TypeError",
     "evalue": "'tuple' object does not support item assignment",
     "output_type": "error",
     "traceback": [
      "\u001b[1;31m---------------------------------------------------------------------------\u001b[0m",
      "\u001b[1;31mTypeError\u001b[0m                                 Traceback (most recent call last)",
      "\u001b[1;32m<ipython-input-7-1cef2070d79f>\u001b[0m in \u001b[0;36m<module>\u001b[1;34m\u001b[0m\n\u001b[1;32m----> 1\u001b[1;33m \u001b[0mtup1\u001b[0m\u001b[1;33m[\u001b[0m\u001b[1;33m-\u001b[0m\u001b[1;36m1\u001b[0m\u001b[1;33m]\u001b[0m\u001b[1;33m=\u001b[0m\u001b[1;34m'sowmi'\u001b[0m\u001b[1;33m\u001b[0m\u001b[1;33m\u001b[0m\u001b[0m\n\u001b[0m",
      "\u001b[1;31mTypeError\u001b[0m: 'tuple' object does not support item assignment"
     ]
    }
   ],
   "source": [
    "tup1[-1]='sowmi'"
   ]
  },
  {
   "cell_type": "markdown",
   "id": "59a8d858",
   "metadata": {},
   "source": [
    "## Range\n",
    "range (start,end,step)"
   ]
  },
  {
   "cell_type": "code",
   "execution_count": 8,
   "id": "ee6cbdb4",
   "metadata": {},
   "outputs": [
    {
     "data": {
      "text/plain": [
       "range(1, 20)"
      ]
     },
     "execution_count": 8,
     "metadata": {},
     "output_type": "execute_result"
    }
   ],
   "source": [
    "range(1,20)"
   ]
  },
  {
   "cell_type": "code",
   "execution_count": 9,
   "id": "28875d7d",
   "metadata": {},
   "outputs": [
    {
     "data": {
      "text/plain": [
       "[1, 2, 3, 4, 5, 6, 7, 8, 9, 10, 11, 12, 13, 14, 15, 16, 17, 18, 19]"
      ]
     },
     "execution_count": 9,
     "metadata": {},
     "output_type": "execute_result"
    }
   ],
   "source": [
    "list(range(1,20))"
   ]
  },
  {
   "cell_type": "code",
   "execution_count": 10,
   "id": "c87801f4",
   "metadata": {},
   "outputs": [
    {
     "data": {
      "text/plain": [
       "range"
      ]
     },
     "execution_count": 10,
     "metadata": {},
     "output_type": "execute_result"
    }
   ],
   "source": [
    "type(range(1,20))"
   ]
  },
  {
   "cell_type": "code",
   "execution_count": 11,
   "id": "94744220",
   "metadata": {},
   "outputs": [
    {
     "data": {
      "text/plain": [
       "range(92, 45)"
      ]
     },
     "execution_count": 11,
     "metadata": {},
     "output_type": "execute_result"
    }
   ],
   "source": [
    "range (92,45)"
   ]
  },
  {
   "cell_type": "code",
   "execution_count": 12,
   "id": "325cd0de",
   "metadata": {},
   "outputs": [
    {
     "data": {
      "text/plain": [
       "[34,\n",
       " 35,\n",
       " 36,\n",
       " 37,\n",
       " 38,\n",
       " 39,\n",
       " 40,\n",
       " 41,\n",
       " 42,\n",
       " 43,\n",
       " 44,\n",
       " 45,\n",
       " 46,\n",
       " 47,\n",
       " 48,\n",
       " 49,\n",
       " 50,\n",
       " 51,\n",
       " 52,\n",
       " 53]"
      ]
     },
     "execution_count": 12,
     "metadata": {},
     "output_type": "execute_result"
    }
   ],
   "source": [
    "list(range(34,54))"
   ]
  },
  {
   "cell_type": "code",
   "execution_count": 13,
   "id": "a5b1e967",
   "metadata": {},
   "outputs": [],
   "source": [
    "sect = list(range(1,100,5))"
   ]
  },
  {
   "cell_type": "code",
   "execution_count": 14,
   "id": "ce3341fe",
   "metadata": {},
   "outputs": [
    {
     "data": {
      "text/plain": [
       "[1, 6, 11, 16, 21, 26, 31, 36, 41, 46, 51, 56, 61, 66, 71, 76, 81, 86, 91, 96]"
      ]
     },
     "execution_count": 14,
     "metadata": {},
     "output_type": "execute_result"
    }
   ],
   "source": [
    "sect"
   ]
  },
  {
   "cell_type": "code",
   "execution_count": 17,
   "id": "e6d0d778",
   "metadata": {},
   "outputs": [],
   "source": [
    "sect = list(range(2,50,3))"
   ]
  },
  {
   "cell_type": "code",
   "execution_count": 18,
   "id": "70d8defa",
   "metadata": {},
   "outputs": [
    {
     "data": {
      "text/plain": [
       "[2, 5, 8, 11, 14, 17, 20, 23, 26, 29, 32, 35, 38, 41, 44, 47]"
      ]
     },
     "execution_count": 18,
     "metadata": {},
     "output_type": "execute_result"
    }
   ],
   "source": [
    "sect"
   ]
  },
  {
   "cell_type": "markdown",
   "id": "d9957f2f",
   "metadata": {},
   "source": [
    "## Mapping\n",
    "### Dictionary\n",
    "{key:value}"
   ]
  },
  {
   "cell_type": "code",
   "execution_count": 19,
   "id": "a6626185",
   "metadata": {},
   "outputs": [],
   "source": [
    "dicty =  {'Name': 'students','class':[ 'BCA','BSc'],'Stregth':100}"
   ]
  },
  {
   "cell_type": "code",
   "execution_count": 20,
   "id": "1debb3b3",
   "metadata": {},
   "outputs": [
    {
     "data": {
      "text/plain": [
       "{'Name': 'students', 'class': ['BCA', 'BSc'], 'Stregth': 100}"
      ]
     },
     "execution_count": 20,
     "metadata": {},
     "output_type": "execute_result"
    }
   ],
   "source": [
    "dicty"
   ]
  },
  {
   "cell_type": "code",
   "execution_count": 21,
   "id": "9a2c112c",
   "metadata": {},
   "outputs": [
    {
     "data": {
      "text/plain": [
       "dict"
      ]
     },
     "execution_count": 21,
     "metadata": {},
     "output_type": "execute_result"
    }
   ],
   "source": [
    "type(dicty)"
   ]
  },
  {
   "cell_type": "code",
   "execution_count": 22,
   "id": "483f8f46",
   "metadata": {},
   "outputs": [],
   "source": [
    "dicty =    {'Food': 'briyani','color':['red','green'],'Price':150}"
   ]
  },
  {
   "cell_type": "code",
   "execution_count": 23,
   "id": "ed3ded54",
   "metadata": {},
   "outputs": [
    {
     "data": {
      "text/plain": [
       "{'Food': 'briyani', 'color': ['red', 'green'], 'Price': 150}"
      ]
     },
     "execution_count": 23,
     "metadata": {},
     "output_type": "execute_result"
    }
   ],
   "source": [
    "dicty"
   ]
  },
  {
   "cell_type": "code",
   "execution_count": 24,
   "id": "a828ccba",
   "metadata": {},
   "outputs": [
    {
     "data": {
      "text/plain": [
       "dict"
      ]
     },
     "execution_count": 24,
     "metadata": {},
     "output_type": "execute_result"
    }
   ],
   "source": [
    "type(dicty)"
   ]
  },
  {
   "cell_type": "code",
   "execution_count": 26,
   "id": "b8c01bb3",
   "metadata": {},
   "outputs": [
    {
     "data": {
      "text/plain": [
       "'briyani'"
      ]
     },
     "execution_count": 26,
     "metadata": {},
     "output_type": "execute_result"
    }
   ],
   "source": [
    "dicty['Food']"
   ]
  },
  {
   "cell_type": "markdown",
   "id": "3f785abd",
   "metadata": {},
   "source": [
    "## Set\n",
    "#### Set"
   ]
  },
  {
   "cell_type": "code",
   "execution_count": 33,
   "id": "3f3b5d82",
   "metadata": {},
   "outputs": [],
   "source": [
    "wak ={1,2,3,3,5,6,6,7,8,5,6,9,8,9j,'k'}"
   ]
  },
  {
   "cell_type": "code",
   "execution_count": 34,
   "id": "433b3232",
   "metadata": {},
   "outputs": [
    {
     "data": {
      "text/plain": [
       "{1, 2, 3, 5, 6, 7, 8, 9, 9j, 'k'}"
      ]
     },
     "execution_count": 34,
     "metadata": {},
     "output_type": "execute_result"
    }
   ],
   "source": [
    "wak"
   ]
  },
  {
   "cell_type": "code",
   "execution_count": 35,
   "id": "e2898b89",
   "metadata": {},
   "outputs": [
    {
     "data": {
      "text/plain": [
       "set"
      ]
     },
     "execution_count": 35,
     "metadata": {},
     "output_type": "execute_result"
    }
   ],
   "source": [
    "type(wak)"
   ]
  },
  {
   "cell_type": "markdown",
   "id": "5052ff6a",
   "metadata": {},
   "source": [
    "### Frozenset"
   ]
  },
  {
   "cell_type": "code",
   "execution_count": 2,
   "id": "b1db83d9",
   "metadata": {},
   "outputs": [],
   "source": [
    "wink = frozenset({1,2,3,4,5,7,6,34,2,4,'o'})"
   ]
  },
  {
   "cell_type": "code",
   "execution_count": 3,
   "id": "9e388d4e",
   "metadata": {},
   "outputs": [
    {
     "data": {
      "text/plain": [
       "frozenset({1, 2, 3, 34, 4, 5, 6, 7, 'o'})"
      ]
     },
     "execution_count": 3,
     "metadata": {},
     "output_type": "execute_result"
    }
   ],
   "source": [
    "wink"
   ]
  },
  {
   "cell_type": "code",
   "execution_count": 4,
   "id": "93863f2d",
   "metadata": {},
   "outputs": [
    {
     "data": {
      "text/plain": [
       "frozenset"
      ]
     },
     "execution_count": 4,
     "metadata": {},
     "output_type": "execute_result"
    }
   ],
   "source": [
    "type(wink)"
   ]
  },
  {
   "cell_type": "code",
   "execution_count": 5,
   "id": "0d2d8078",
   "metadata": {},
   "outputs": [],
   "source": [
    "wink =frozenset({4,5,6,7,5,4,5,6,'s'})"
   ]
  },
  {
   "cell_type": "code",
   "execution_count": 6,
   "id": "7aad34fb",
   "metadata": {},
   "outputs": [
    {
     "data": {
      "text/plain": [
       "frozenset({4, 5, 6, 7, 's'})"
      ]
     },
     "execution_count": 6,
     "metadata": {},
     "output_type": "execute_result"
    }
   ],
   "source": [
    "wink"
   ]
  },
  {
   "cell_type": "markdown",
   "id": "e20498fe",
   "metadata": {},
   "source": [
    "## Boolean"
   ]
  },
  {
   "cell_type": "code",
   "execution_count": 8,
   "id": "cddb38bf",
   "metadata": {},
   "outputs": [],
   "source": [
    "id = True"
   ]
  },
  {
   "cell_type": "code",
   "execution_count": 9,
   "id": "2bd84ff5",
   "metadata": {},
   "outputs": [
    {
     "data": {
      "text/plain": [
       "bool"
      ]
     },
     "execution_count": 9,
     "metadata": {},
     "output_type": "execute_result"
    }
   ],
   "source": [
    "type(id)"
   ]
  },
  {
   "cell_type": "code",
   "execution_count": 10,
   "id": "888268f4",
   "metadata": {},
   "outputs": [],
   "source": [
    "num1 =34\n",
    "num2 =45"
   ]
  },
  {
   "cell_type": "code",
   "execution_count": 11,
   "id": "9e161065",
   "metadata": {},
   "outputs": [
    {
     "data": {
      "text/plain": [
       "False"
      ]
     },
     "execution_count": 11,
     "metadata": {},
     "output_type": "execute_result"
    }
   ],
   "source": [
    "num1 > num2"
   ]
  },
  {
   "cell_type": "code",
   "execution_count": 12,
   "id": "d3807e23",
   "metadata": {},
   "outputs": [],
   "source": [
    "num1 = 22\n",
    "num2 = 35"
   ]
  },
  {
   "cell_type": "code",
   "execution_count": 14,
   "id": "b74b61d0",
   "metadata": {},
   "outputs": [
    {
     "data": {
      "text/plain": [
       "True"
      ]
     },
     "execution_count": 14,
     "metadata": {},
     "output_type": "execute_result"
    }
   ],
   "source": [
    "num1 <num2"
   ]
  },
  {
   "cell_type": "markdown",
   "id": "fe71f9cc",
   "metadata": {},
   "source": [
    "### Task - Create your profile using datatypes.  Use appropriate info for relevant datatypes\n",
    "\n",
    "#### String"
   ]
  },
  {
   "cell_type": "code",
   "execution_count": 15,
   "id": "06a48024",
   "metadata": {},
   "outputs": [],
   "source": [
    "Name = 'sowmiya k'"
   ]
  },
  {
   "cell_type": "code",
   "execution_count": 17,
   "id": "77db9118",
   "metadata": {},
   "outputs": [
    {
     "data": {
      "text/plain": [
       "'sowmiya k'"
      ]
     },
     "execution_count": 17,
     "metadata": {},
     "output_type": "execute_result"
    }
   ],
   "source": [
    "Name"
   ]
  },
  {
   "cell_type": "markdown",
   "id": "9b9b8dd7",
   "metadata": {},
   "source": [
    "### Integer"
   ]
  },
  {
   "cell_type": "code",
   "execution_count": 20,
   "id": "c5112740",
   "metadata": {},
   "outputs": [],
   "source": [
    "Age='20'"
   ]
  },
  {
   "cell_type": "code",
   "execution_count": 21,
   "id": "c614264c",
   "metadata": {},
   "outputs": [
    {
     "data": {
      "text/plain": [
       "'20'"
      ]
     },
     "execution_count": 21,
     "metadata": {},
     "output_type": "execute_result"
    }
   ],
   "source": [
    "Age"
   ]
  },
  {
   "cell_type": "markdown",
   "id": "d43692a9",
   "metadata": {},
   "source": [
    "### Dictionary"
   ]
  },
  {
   "cell_type": "code",
   "execution_count": 22,
   "id": "8645c6ae",
   "metadata": {},
   "outputs": [],
   "source": [
    "dicty ={'class':'BCA'}       "
   ]
  },
  {
   "cell_type": "code",
   "execution_count": 23,
   "id": "4e4fcae1",
   "metadata": {},
   "outputs": [
    {
     "data": {
      "text/plain": [
       "{'class': 'BCA'}"
      ]
     },
     "execution_count": 23,
     "metadata": {},
     "output_type": "execute_result"
    }
   ],
   "source": [
    "dicty"
   ]
  },
  {
   "cell_type": "markdown",
   "id": "01451ef1",
   "metadata": {},
   "source": [
    "### Set"
   ]
  },
  {
   "cell_type": "code",
   "execution_count": 24,
   "id": "875ad6ef",
   "metadata": {},
   "outputs": [],
   "source": [
    "Mark = {99,89,79,90,95}"
   ]
  },
  {
   "cell_type": "code",
   "execution_count": 26,
   "id": "e7262e9f",
   "metadata": {},
   "outputs": [
    {
     "data": {
      "text/plain": [
       "{79, 89, 90, 95, 99}"
      ]
     },
     "execution_count": 26,
     "metadata": {},
     "output_type": "execute_result"
    }
   ],
   "source": [
    "Mark"
   ]
  },
  {
   "cell_type": "markdown",
   "id": "deea2631",
   "metadata": {},
   "source": [
    "### Float"
   ]
  },
  {
   "cell_type": "code",
   "execution_count": 27,
   "id": "284643a2",
   "metadata": {},
   "outputs": [],
   "source": [
    "dec = 9.99"
   ]
  },
  {
   "cell_type": "code",
   "execution_count": 33,
   "id": "70d03b1c",
   "metadata": {},
   "outputs": [
    {
     "data": {
      "text/plain": [
       "9.99"
      ]
     },
     "execution_count": 33,
     "metadata": {},
     "output_type": "execute_result"
    }
   ],
   "source": [
    "dec"
   ]
  },
  {
   "cell_type": "markdown",
   "id": "1e18754f",
   "metadata": {},
   "source": [
    "### list"
   ]
  },
  {
   "cell_type": "code",
   "execution_count": 43,
   "id": "b75260ee",
   "metadata": {},
   "outputs": [],
   "source": [
    "Subject = [\"Tamil\",\"English\",\"Java\",\"c\",\"OS\"]"
   ]
  },
  {
   "cell_type": "code",
   "execution_count": 44,
   "id": "328a279d",
   "metadata": {},
   "outputs": [
    {
     "data": {
      "text/plain": [
       "['Tamil', 'English', 'Java', 'c', 'OS']"
      ]
     },
     "execution_count": 44,
     "metadata": {},
     "output_type": "execute_result"
    }
   ],
   "source": [
    "Subject"
   ]
  },
  {
   "cell_type": "code",
   "execution_count": 46,
   "id": "20bd2cb3",
   "metadata": {},
   "outputs": [
    {
     "data": {
      "text/plain": [
       "list"
      ]
     },
     "execution_count": 46,
     "metadata": {},
     "output_type": "execute_result"
    }
   ],
   "source": [
    "type(Subject)"
   ]
  },
  {
   "cell_type": "markdown",
   "id": "5ae548c6",
   "metadata": {},
   "source": [
    "### tuple"
   ]
  },
  {
   "cell_type": "code",
   "execution_count": 49,
   "id": "93168313",
   "metadata": {},
   "outputs": [],
   "source": [
    "quality = ('draw','sing','type')"
   ]
  },
  {
   "cell_type": "code",
   "execution_count": 50,
   "id": "94781a44",
   "metadata": {},
   "outputs": [
    {
     "data": {
      "text/plain": [
       "('draw', 'sing', 'type')"
      ]
     },
     "execution_count": 50,
     "metadata": {},
     "output_type": "execute_result"
    }
   ],
   "source": [
    "quality"
   ]
  },
  {
   "cell_type": "code",
   "execution_count": 51,
   "id": "f902a78b",
   "metadata": {},
   "outputs": [
    {
     "data": {
      "text/plain": [
       "tuple"
      ]
     },
     "execution_count": 51,
     "metadata": {},
     "output_type": "execute_result"
    }
   ],
   "source": [
    "type(quality)"
   ]
  },
  {
   "cell_type": "markdown",
   "id": "354ec1d0",
   "metadata": {},
   "source": [
    "### Boolean"
   ]
  },
  {
   "cell_type": "code",
   "execution_count": 52,
   "id": "a38b5714",
   "metadata": {},
   "outputs": [],
   "source": [
    "mark1 = 90\n",
    "mark2 = 95"
   ]
  },
  {
   "cell_type": "code",
   "execution_count": 54,
   "id": "509f02fa",
   "metadata": {},
   "outputs": [
    {
     "data": {
      "text/plain": [
       "False"
      ]
     },
     "execution_count": 54,
     "metadata": {},
     "output_type": "execute_result"
    }
   ],
   "source": [
    "mark1  > mark2"
   ]
  },
  {
   "cell_type": "code",
   "execution_count": null,
   "id": "579a3b9f",
   "metadata": {},
   "outputs": [],
   "source": []
  }
 ],
 "metadata": {
  "kernelspec": {
   "display_name": "Python 3",
   "language": "python",
   "name": "python3"
  },
  "language_info": {
   "codemirror_mode": {
    "name": "ipython",
    "version": 3
   },
   "file_extension": ".py",
   "mimetype": "text/x-python",
   "name": "python",
   "nbconvert_exporter": "python",
   "pygments_lexer": "ipython3",
   "version": "3.8.8"
  }
 },
 "nbformat": 4,
 "nbformat_minor": 5
}
