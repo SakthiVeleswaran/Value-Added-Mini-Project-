{
 "cells": [
  {
   "cell_type": "markdown",
   "id": "b6ba0784",
   "metadata": {},
   "source": [
    "## Functions"
   ]
  },
  {
   "cell_type": "code",
   "execution_count": null,
   "id": "70b97ac8",
   "metadata": {},
   "outputs": [],
   "source": [
    "def <function_name>(parameters):\n",
    "    # Doc string\n",
    "    <statement(s)>"
   ]
  },
  {
   "cell_type": "code",
   "execution_count": 2,
   "id": "67b4bf35",
   "metadata": {},
   "outputs": [],
   "source": [
    "def intro(name):\n",
    "    #printing name\n",
    "    print(f\"Hello, name is {name}\")"
   ]
  },
  {
   "cell_type": "code",
   "execution_count": 3,
   "id": "4ae62492",
   "metadata": {},
   "outputs": [
    {
     "name": "stdout",
     "output_type": "stream",
     "text": [
      "name - SOWMI\n"
     ]
    }
   ],
   "source": [
    "user_name = input(\"name - \")"
   ]
  },
  {
   "cell_type": "code",
   "execution_count": 4,
   "id": "35275c77",
   "metadata": {},
   "outputs": [
    {
     "name": "stdout",
     "output_type": "stream",
     "text": [
      "Hello, name is SOWMI\n"
     ]
    }
   ],
   "source": [
    "intro(user_name)"
   ]
  },
  {
   "cell_type": "code",
   "execution_count": 5,
   "id": "c31c96c0",
   "metadata": {},
   "outputs": [],
   "source": [
    "def addn(a,b):\n",
    "    # Addition opertion\n",
    "    c = a+b\n",
    "    print(f\"the sum is {c}\")"
   ]
  },
  {
   "cell_type": "code",
   "execution_count": 6,
   "id": "0a1ca041",
   "metadata": {},
   "outputs": [],
   "source": [
    "num1 = 7\n",
    "num2 = 11"
   ]
  },
  {
   "cell_type": "code",
   "execution_count": 7,
   "id": "4408f5df",
   "metadata": {},
   "outputs": [
    {
     "name": "stdout",
     "output_type": "stream",
     "text": [
      "the sum is 18\n"
     ]
    }
   ],
   "source": [
    "addn (num1, num2)"
   ]
  },
  {
   "cell_type": "code",
   "execution_count": 27,
   "id": "d893e3f6",
   "metadata": {},
   "outputs": [],
   "source": [
    "def multin(a,b):\n",
    "    # Multiple operation\n",
    "    c = a*b\n",
    "    print(f\"the sum is {c}\")"
   ]
  },
  {
   "cell_type": "code",
   "execution_count": 28,
   "id": "ac15bf5a",
   "metadata": {},
   "outputs": [],
   "source": [
    "num1 = 10\n",
    "num2 = 5"
   ]
  },
  {
   "cell_type": "code",
   "execution_count": 29,
   "id": "18493c50",
   "metadata": {},
   "outputs": [
    {
     "name": "stdout",
     "output_type": "stream",
     "text": [
      "the sum is 50\n"
     ]
    }
   ],
   "source": [
    "multin(num1, num2)"
   ]
  },
  {
   "cell_type": "markdown",
   "id": "fe02c800",
   "metadata": {},
   "source": [
    "## Lambda"
   ]
  },
  {
   "cell_type": "markdown",
   "id": "e898c539",
   "metadata": {},
   "source": [
    "lambda <arguments>: <expression>"
   ]
  },
  {
   "cell_type": "code",
   "execution_count": 32,
   "id": "dc62731c",
   "metadata": {},
   "outputs": [],
   "source": [
    "dub = lambda x:x*2"
   ]
  },
  {
   "cell_type": "code",
   "execution_count": 33,
   "id": "454c965c",
   "metadata": {},
   "outputs": [
    {
     "name": "stdout",
     "output_type": "stream",
     "text": [
      "14\n"
     ]
    }
   ],
   "source": [
    "print(dub(7))"
   ]
  },
  {
   "cell_type": "code",
   "execution_count": 35,
   "id": "91343b14",
   "metadata": {},
   "outputs": [],
   "source": [
    "dub = lambda x:x*5"
   ]
  },
  {
   "cell_type": "code",
   "execution_count": 36,
   "id": "06661948",
   "metadata": {},
   "outputs": [
    {
     "name": "stdout",
     "output_type": "stream",
     "text": [
      "10\n"
     ]
    }
   ],
   "source": [
    "print(dub(2))"
   ]
  },
  {
   "cell_type": "code",
   "execution_count": null,
   "id": "2d72b8bb",
   "metadata": {},
   "outputs": [],
   "source": []
  }
 ],
 "metadata": {
  "kernelspec": {
   "display_name": "Python 3",
   "language": "python",
   "name": "python3"
  },
  "language_info": {
   "codemirror_mode": {
    "name": "ipython",
    "version": 3
   },
   "file_extension": ".py",
   "mimetype": "text/x-python",
   "name": "python",
   "nbconvert_exporter": "python",
   "pygments_lexer": "ipython3",
   "version": "3.8.8"
  }
 },
 "nbformat": 4,
 "nbformat_minor": 5
}
