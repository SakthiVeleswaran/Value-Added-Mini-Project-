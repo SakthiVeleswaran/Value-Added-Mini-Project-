{
 "cells": [
  {
   "cell_type": "markdown",
   "id": "6822c9ec",
   "metadata": {},
   "source": [
    "## Type\n",
    "\n",
    "\n",
    "### For loop\n",
    "### While loop"
   ]
  },
  {
   "cell_type": "code",
   "execution_count": null,
   "id": "700c1840",
   "metadata": {},
   "outputs": [],
   "source": [
    "for <variable> in <expression/sequence>:\n",
    "    <statement(s)>"
   ]
  },
  {
   "cell_type": "code",
   "execution_count": 2,
   "id": "8a45cfbd",
   "metadata": {},
   "outputs": [],
   "source": [
    "number = range(1,16)"
   ]
  },
  {
   "cell_type": "code",
   "execution_count": 3,
   "id": "e57ec366",
   "metadata": {},
   "outputs": [
    {
     "name": "stdout",
     "output_type": "stream",
     "text": [
      "1\n",
      "2\n",
      "3\n",
      "4\n",
      "5\n",
      "6\n",
      "7\n",
      "8\n",
      "9\n",
      "10\n",
      "11\n",
      "12\n",
      "13\n",
      "14\n",
      "15\n"
     ]
    }
   ],
   "source": [
    "for a in number:\n",
    "    print(a)"
   ]
  },
  {
   "cell_type": "code",
   "execution_count": null,
   "id": "4560bab0",
   "metadata": {},
   "outputs": [],
   "source": [
    "for val in number:\n",
    "    if val %2 ==0:\n",
    "        print(f\"The number {val} is even\")\n",
    "    else:\n",
    "        print(f\"The number {val} is odd\")"
   ]
  },
  {
   "cell_type": "code",
   "execution_count": 18,
   "id": "0d6440bd",
   "metadata": {},
   "outputs": [
    {
     "name": "stdout",
     "output_type": "stream",
     "text": [
      "the current letter is :t\n",
      "the current letter is :r\n",
      "the current letter is :i\n",
      "the current letter is :c\n",
      "the current letter is :k\n",
      "the current letter is :s\n"
     ]
    }
   ],
   "source": [
    "for letter in \"tricks\":\n",
    "    print(f\"the current letter is :{letter}\")"
   ]
  },
  {
   "cell_type": "code",
   "execution_count": 21,
   "id": "e6e763b4",
   "metadata": {},
   "outputs": [
    {
     "name": "stdout",
     "output_type": "stream",
     "text": [
      "the current letter is :s\n",
      "the current letter is :o\n",
      "the current letter is :w\n",
      "the current letter is :m\n",
      "the current letter is :i\n"
     ]
    }
   ],
   "source": [
    "for letter in \"sowmi\":\n",
    "    print(f\"the current letter is :{letter}\")"
   ]
  },
  {
   "cell_type": "markdown",
   "id": "59303911",
   "metadata": {},
   "source": [
    "## while loop"
   ]
  },
  {
   "cell_type": "code",
   "execution_count": null,
   "id": "215e0308",
   "metadata": {},
   "outputs": [],
   "source": [
    "while <expression>:\n",
    "    <statement(s)>"
   ]
  },
  {
   "cell_type": "code",
   "execution_count": 28,
   "id": "f0b8db60",
   "metadata": {},
   "outputs": [
    {
     "name": "stdout",
     "output_type": "stream",
     "text": [
      "sowmi\n",
      "sowmi\n",
      "sowmi\n",
      "sowmi\n",
      "sowmi\n",
      "sowmi\n",
      "sowmi\n",
      "sowmi\n",
      "sowmi\n",
      "sowmi\n"
     ]
    }
   ],
   "source": [
    "c = 0\n",
    "\n",
    "while c<10:\n",
    "    print(\"sowmi\")\n",
    "    c +=1"
   ]
  },
  {
   "cell_type": "markdown",
   "id": "8eb94deb",
   "metadata": {},
   "source": [
    "## program to reverse print an user input integer"
   ]
  },
  {
   "cell_type": "code",
   "execution_count": 30,
   "id": "0f01c182",
   "metadata": {},
   "outputs": [
    {
     "name": "stdout",
     "output_type": "stream",
     "text": [
      "enter number to reverse :1234\n"
     ]
    }
   ],
   "source": [
    "inte_num = int(input(\"enter number to reverse :\"))\n"
   ]
  },
  {
   "cell_type": "code",
   "execution_count": 31,
   "id": "57d5dec1",
   "metadata": {},
   "outputs": [
    {
     "name": "stdout",
     "output_type": "stream",
     "text": [
      "4321\n"
     ]
    }
   ],
   "source": [
    "rev = 0\n",
    "\n",
    "while(inte_num !=0):\n",
    "    digit = inte_num % 10\n",
    "    rev = (rev*10) + digit\n",
    "    inte_num = inte_num//10\n",
    "print(rev)    "
   ]
  },
  {
   "cell_type": "markdown",
   "id": "be3c0ade",
   "metadata": {},
   "source": [
    "## Task - creare a fibonacci series using loop. Get the number of elements inthe series from user and print the series\n",
    "\n",
    "## 0,1,1,2,3,5,8,13,21"
   ]
  },
  {
   "cell_type": "code",
   "execution_count": null,
   "id": "948a8b36",
   "metadata": {},
   "outputs": [],
   "source": [
    "inte_num = int(input(\"enter number to fibanocci :\"))"
   ]
  },
  {
   "cell_type": "code",
   "execution_count": null,
   "id": "84dc6b4c",
   "metadata": {},
   "outputs": [],
   "source": []
  }
 ],
 "metadata": {
  "kernelspec": {
   "display_name": "Python 3",
   "language": "python",
   "name": "python3"
  },
  "language_info": {
   "codemirror_mode": {
    "name": "ipython",
    "version": 3
   },
   "file_extension": ".py",
   "mimetype": "text/x-python",
   "name": "python",
   "nbconvert_exporter": "python",
   "pygments_lexer": "ipython3",
   "version": "3.8.8"
  },
  "widgets": {
   "application/vnd.jupyter.widget-state+json": {
    "state": {},
    "version_major": 2,
    "version_minor": 0
   }
  }
 },
 "nbformat": 4,
 "nbformat_minor": 5
}
