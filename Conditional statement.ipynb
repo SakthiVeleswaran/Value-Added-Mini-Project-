{
 "cells": [
  {
   "cell_type": "markdown",
   "id": "4a0f5445",
   "metadata": {},
   "source": [
    "## If condition"
   ]
  },
  {
   "cell_type": "code",
   "execution_count": null,
   "id": "62bab3ee",
   "metadata": {},
   "outputs": [],
   "source": [
    "if <expression/condition>:\n",
    "    <statement(s)>"
   ]
  },
  {
   "cell_type": "code",
   "execution_count": 21,
   "id": "64d48060",
   "metadata": {},
   "outputs": [
    {
     "name": "stdout",
     "output_type": "stream",
     "text": [
      "Enter number 1-22\n",
      "Enter number 2-30\n"
     ]
    }
   ],
   "source": [
    "num1 = input(\"Enter number 1-\")\n",
    "num2 = input(\"Enter number 2-\")\n"
   ]
  },
  {
   "cell_type": "code",
   "execution_count": 10,
   "id": "29eb389a",
   "metadata": {},
   "outputs": [
    {
     "name": "stdout",
     "output_type": "stream",
     "text": [
      "The number 10 is greater than 5\n"
     ]
    }
   ],
   "source": [
    "if int(num1)>int(num2):\n",
    "    print(f\"The number {num1} is greater than {num2}\")"
   ]
  },
  {
   "cell_type": "code",
   "execution_count": 12,
   "id": "1d9a0ec6",
   "metadata": {},
   "outputs": [
    {
     "name": "stdout",
     "output_type": "stream",
     "text": [
      "The number 10 is divided by 2\n"
     ]
    }
   ],
   "source": [
    "if int (num1) % 2 ==0:\n",
    "    print(f\"The number {num1} is divided by 2\")"
   ]
  },
  {
   "cell_type": "markdown",
   "id": "77c7d311",
   "metadata": {},
   "source": [
    "## ifelse condition"
   ]
  },
  {
   "cell_type": "code",
   "execution_count": null,
   "id": "36069ef4",
   "metadata": {},
   "outputs": [],
   "source": [
    "if <expression/condition>:\n",
    "    <statement(s)>\n",
    "else:\n",
    "    <statement(s)>"
   ]
  },
  {
   "cell_type": "code",
   "execution_count": null,
   "id": "7f04ce14",
   "metadata": {},
   "outputs": [],
   "source": [
    "if int(num1) > int(num2):\n",
    "    print(f\"Number {num1} is greater than {num2}\")\n",
    "else:\n",
    "    print(f\"Number {num2} is greater than {num1}\")"
   ]
  },
  {
   "cell_type": "code",
   "execution_count": 25,
   "id": "2fffccdf",
   "metadata": {},
   "outputs": [
    {
     "name": "stdout",
     "output_type": "stream",
     "text": [
      "Enter number 3 --10\n"
     ]
    }
   ],
   "source": [
    "num3 = int(input(\"Enter number 3 -\"))"
   ]
  },
  {
   "cell_type": "code",
   "execution_count": 26,
   "id": "d68c3ede",
   "metadata": {},
   "outputs": [
    {
     "name": "stdout",
     "output_type": "stream",
     "text": [
      "Negative Number\n"
     ]
    }
   ],
   "source": [
    "if num3>=0:\n",
    "    print(\"Positive Number\")\n",
    "else:\n",
    "    print(\"Negative Number\")"
   ]
  },
  {
   "cell_type": "markdown",
   "id": "d7f8b02a",
   "metadata": {},
   "source": [
    "## Elif Condition"
   ]
  },
  {
   "cell_type": "code",
   "execution_count": null,
   "id": "314d4899",
   "metadata": {},
   "outputs": [],
   "source": [
    "if <expression/condition>:\n",
    "    <satement(s)>\n",
    "elif <expression/condition>:\n",
    "    <statement(s)>\n",
    "else:\n",
    "    <statement(s)>"
   ]
  },
  {
   "cell_type": "code",
   "execution_count": 27,
   "id": "21b0e3b5",
   "metadata": {},
   "outputs": [
    {
     "name": "stdout",
     "output_type": "stream",
     "text": [
      "please enter an number -11\n"
     ]
    }
   ],
   "source": [
    "number = int(input(\"please enter an number -\"))"
   ]
  },
  {
   "cell_type": "code",
   "execution_count": 28,
   "id": "667c1aff",
   "metadata": {},
   "outputs": [
    {
     "name": "stdout",
     "output_type": "stream",
     "text": [
      "Positive\n"
     ]
    }
   ],
   "source": [
    "if number>0:\n",
    "    print(\"Positive\")\n",
    "elif number<0:\n",
    "    print(\"Negtive\")\n",
    "else:\n",
    "    print(\"Number is zero\")"
   ]
  },
  {
   "cell_type": "markdown",
   "id": "02d5d7f3",
   "metadata": {},
   "source": [
    "## Task - get 3 numbers from user and find the maximum number out of it"
   ]
  },
  {
   "cell_type": "code",
   "execution_count": null,
   "id": "2b1f1ec1",
   "metadata": {},
   "outputs": [],
   "source": [
    "if <expression/condition>:\n",
    "    <statement(s)>"
   ]
  },
  {
   "cell_type": "code",
   "execution_count": 39,
   "id": "786caa33",
   "metadata": {},
   "outputs": [
    {
     "name": "stdout",
     "output_type": "stream",
     "text": [
      "Enter number 1 -12\n",
      "Enter number 2 -23\n",
      "Enter number 3 -55\n"
     ]
    }
   ],
   "source": [
    "num1 = input(\"Enter number 1 -\")\n",
    "num2 = input(\"Enter number 2 -\")\n",
    "num3 = input(\"Enter number 3 -\")"
   ]
  },
  {
   "cell_type": "code",
   "execution_count": 3,
   "id": "03c1cf30",
   "metadata": {},
   "outputs": [
    {
     "ename": "NameError",
     "evalue": "name 'num1' is not defined",
     "output_type": "error",
     "traceback": [
      "\u001b[1;31m---------------------------------------------------------------------------\u001b[0m",
      "\u001b[1;31mNameError\u001b[0m                                 Traceback (most recent call last)",
      "\u001b[1;32m<ipython-input-3-2f0facdc7439>\u001b[0m in \u001b[0;36m<module>\u001b[1;34m\u001b[0m\n\u001b[1;32m----> 1\u001b[1;33m \u001b[1;32mif\u001b[0m \u001b[0mnum1\u001b[0m\u001b[1;33m>\u001b[0m\u001b[0mnum2\u001b[0m\u001b[1;33m:\u001b[0m\u001b[1;33m\u001b[0m\u001b[1;33m\u001b[0m\u001b[0m\n\u001b[0m\u001b[0;32m      2\u001b[0m     \u001b[0mprint\u001b[0m\u001b[1;33m(\u001b[0m\u001b[1;34m\"num1 is greater\"\u001b[0m\u001b[1;33m)\u001b[0m\u001b[1;33m\u001b[0m\u001b[1;33m\u001b[0m\u001b[0m\n\u001b[0;32m      3\u001b[0m \u001b[1;32melif\u001b[0m \u001b[0mnum2\u001b[0m\u001b[1;33m>\u001b[0m\u001b[0mnum3\u001b[0m\u001b[1;33m:\u001b[0m\u001b[1;33m\u001b[0m\u001b[1;33m\u001b[0m\u001b[0m\n\u001b[0;32m      4\u001b[0m     \u001b[0mprint\u001b[0m\u001b[1;33m(\u001b[0m\u001b[1;34m\"num2 is greater\"\u001b[0m\u001b[1;33m)\u001b[0m\u001b[1;33m\u001b[0m\u001b[1;33m\u001b[0m\u001b[0m\n\u001b[0;32m      5\u001b[0m \u001b[1;32melse\u001b[0m\u001b[1;33m:\u001b[0m\u001b[1;33m\u001b[0m\u001b[1;33m\u001b[0m\u001b[0m\n",
      "\u001b[1;31mNameError\u001b[0m: name 'num1' is not defined"
     ]
    }
   ],
   "source": [
    "if num1>num2:\n",
    "    print(\"num1 is greater\")\n",
    "elif num2>num3:\n",
    "    print(\"num2 is greater\")\n",
    "else:\n",
    "    print(\"num3 is greater\")   "
   ]
  },
  {
   "cell_type": "code",
   "execution_count": null,
   "id": "445142dc",
   "metadata": {},
   "outputs": [],
   "source": []
  }
 ],
 "metadata": {
  "kernelspec": {
   "display_name": "Python 3",
   "language": "python",
   "name": "python3"
  },
  "language_info": {
   "codemirror_mode": {
    "name": "ipython",
    "version": 3
   },
   "file_extension": ".py",
   "mimetype": "text/x-python",
   "name": "python",
   "nbconvert_exporter": "python",
   "pygments_lexer": "ipython3",
   "version": "3.8.8"
  }
 },
 "nbformat": 4,
 "nbformat_minor": 5
}
