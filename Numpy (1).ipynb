{
 "cells": [
  {
   "cell_type": "markdown",
   "id": "13023f6a",
   "metadata": {},
   "source": [
    "## Installing library"
   ]
  },
  {
   "cell_type": "code",
   "execution_count": 3,
   "id": "0ebc1c0a",
   "metadata": {},
   "outputs": [
    {
     "name": "stdout",
     "output_type": "stream",
     "text": [
      "Requirement already satisfied: numpy in c:\\users\\pmu\\anaconda3\\lib\\site-packages (1.19.2)\n",
      "Note: you may need to restart the kernel to use updated packages.\n"
     ]
    }
   ],
   "source": [
    "pip install numpy"
   ]
  },
  {
   "cell_type": "markdown",
   "id": "192adc19",
   "metadata": {},
   "source": [
    "## Importing library"
   ]
  },
  {
   "cell_type": "code",
   "execution_count": 4,
   "id": "6b1605f9",
   "metadata": {},
   "outputs": [],
   "source": [
    "import numpy"
   ]
  },
  {
   "cell_type": "code",
   "execution_count": 21,
   "id": "bdb9a36e",
   "metadata": {},
   "outputs": [],
   "source": [
    "import numpy as np"
   ]
  },
  {
   "cell_type": "markdown",
   "id": "70ce81c9",
   "metadata": {},
   "source": [
    "## Numpy Version Check"
   ]
  },
  {
   "cell_type": "code",
   "execution_count": 12,
   "id": "299fb2d1",
   "metadata": {},
   "outputs": [
    {
     "data": {
      "text/plain": [
       "'1.19.2'"
      ]
     },
     "execution_count": 12,
     "metadata": {},
     "output_type": "execute_result"
    }
   ],
   "source": [
    "np.version.version"
   ]
  },
  {
   "cell_type": "markdown",
   "id": "2b41e4c0",
   "metadata": {},
   "source": [
    "## 1D Array"
   ]
  },
  {
   "cell_type": "code",
   "execution_count": 22,
   "id": "1c236df6",
   "metadata": {},
   "outputs": [],
   "source": [
    "first_array = np.array([1,2,3])"
   ]
  },
  {
   "cell_type": "code",
   "execution_count": 23,
   "id": "ed8e8fc7",
   "metadata": {},
   "outputs": [
    {
     "data": {
      "text/plain": [
       "array([1, 2, 3])"
      ]
     },
     "execution_count": 23,
     "metadata": {},
     "output_type": "execute_result"
    }
   ],
   "source": [
    "first_array"
   ]
  },
  {
   "cell_type": "markdown",
   "id": "349296ca",
   "metadata": {},
   "source": [
    "## 2D Array"
   ]
  },
  {
   "cell_type": "code",
   "execution_count": 24,
   "id": "eef35c61",
   "metadata": {},
   "outputs": [],
   "source": [
    "second_array = np.array([(4,5,6),(7,8,9)])"
   ]
  },
  {
   "cell_type": "code",
   "execution_count": 25,
   "id": "8ac7bad5",
   "metadata": {},
   "outputs": [
    {
     "data": {
      "text/plain": [
       "array([[4, 5, 6],\n",
       "       [7, 8, 9]])"
      ]
     },
     "execution_count": 25,
     "metadata": {},
     "output_type": "execute_result"
    }
   ],
   "source": [
    "second_array"
   ]
  },
  {
   "cell_type": "markdown",
   "id": "bd4e6aca",
   "metadata": {},
   "source": [
    "## 3D array"
   ]
  },
  {
   "cell_type": "code",
   "execution_count": 26,
   "id": "752a4848",
   "metadata": {},
   "outputs": [],
   "source": [
    "third_array = np.array([[(10,11,12),(13,14,15)],[(16,17,18),(13,14,15)]])"
   ]
  },
  {
   "cell_type": "code",
   "execution_count": 27,
   "id": "aab7b3ef",
   "metadata": {},
   "outputs": [
    {
     "data": {
      "text/plain": [
       "array([[[10, 11, 12],\n",
       "        [13, 14, 15]],\n",
       "\n",
       "       [[16, 17, 18],\n",
       "        [13, 14, 15]]])"
      ]
     },
     "execution_count": 27,
     "metadata": {},
     "output_type": "execute_result"
    }
   ],
   "source": [
    "third_array"
   ]
  },
  {
   "cell_type": "markdown",
   "id": "d0613340",
   "metadata": {},
   "source": [
    "## Array of zeros"
   ]
  },
  {
   "cell_type": "code",
   "execution_count": 28,
   "id": "35ee1f22",
   "metadata": {},
   "outputs": [],
   "source": [
    "zero_array = np.zeros((3,3))"
   ]
  },
  {
   "cell_type": "code",
   "execution_count": 29,
   "id": "5f9e833c",
   "metadata": {},
   "outputs": [
    {
     "data": {
      "text/plain": [
       "array([[0., 0., 0.],\n",
       "       [0., 0., 0.],\n",
       "       [0., 0., 0.]])"
      ]
     },
     "execution_count": 29,
     "metadata": {},
     "output_type": "execute_result"
    }
   ],
   "source": [
    "zero_array"
   ]
  },
  {
   "cell_type": "code",
   "execution_count": 30,
   "id": "b5781588",
   "metadata": {},
   "outputs": [],
   "source": [
    "zero_array = np.ones((5,5))"
   ]
  },
  {
   "cell_type": "code",
   "execution_count": 31,
   "id": "1134bc20",
   "metadata": {},
   "outputs": [
    {
     "data": {
      "text/plain": [
       "array([[1., 1., 1., 1., 1.],\n",
       "       [1., 1., 1., 1., 1.],\n",
       "       [1., 1., 1., 1., 1.],\n",
       "       [1., 1., 1., 1., 1.],\n",
       "       [1., 1., 1., 1., 1.]])"
      ]
     },
     "execution_count": 31,
     "metadata": {},
     "output_type": "execute_result"
    }
   ],
   "source": [
    "zero_array"
   ]
  },
  {
   "cell_type": "code",
   "execution_count": 32,
   "id": "974cc3c3",
   "metadata": {},
   "outputs": [
    {
     "ename": "AttributeError",
     "evalue": "module 'numpy' has no attribute 'twoes'",
     "output_type": "error",
     "traceback": [
      "\u001b[1;31m---------------------------------------------------------------------------\u001b[0m",
      "\u001b[1;31mAttributeError\u001b[0m                            Traceback (most recent call last)",
      "\u001b[1;32m<ipython-input-32-744e339e69e1>\u001b[0m in \u001b[0;36m<module>\u001b[1;34m\u001b[0m\n\u001b[1;32m----> 1\u001b[1;33m \u001b[0mzero_array\u001b[0m \u001b[1;33m=\u001b[0m \u001b[0mnp\u001b[0m\u001b[1;33m.\u001b[0m\u001b[0mtwoes\u001b[0m\u001b[1;33m(\u001b[0m\u001b[1;33m(\u001b[0m\u001b[1;36m2\u001b[0m\u001b[1;33m,\u001b[0m\u001b[1;36m2\u001b[0m\u001b[1;33m)\u001b[0m\u001b[1;33m)\u001b[0m\u001b[1;33m\u001b[0m\u001b[1;33m\u001b[0m\u001b[0m\n\u001b[0m",
      "\u001b[1;32m~\\anaconda3\\lib\\site-packages\\numpy\\__init__.py\u001b[0m in \u001b[0;36m__getattr__\u001b[1;34m(attr)\u001b[0m\n\u001b[0;32m    212\u001b[0m                 \u001b[1;32mreturn\u001b[0m \u001b[0mTester\u001b[0m\u001b[1;33m\u001b[0m\u001b[1;33m\u001b[0m\u001b[0m\n\u001b[0;32m    213\u001b[0m             \u001b[1;32melse\u001b[0m\u001b[1;33m:\u001b[0m\u001b[1;33m\u001b[0m\u001b[1;33m\u001b[0m\u001b[0m\n\u001b[1;32m--> 214\u001b[1;33m                 raise AttributeError(\"module {!r} has no attribute \"\n\u001b[0m\u001b[0;32m    215\u001b[0m                                      \"{!r}\".format(__name__, attr))\n\u001b[0;32m    216\u001b[0m \u001b[1;33m\u001b[0m\u001b[0m\n",
      "\u001b[1;31mAttributeError\u001b[0m: module 'numpy' has no attribute 'twoes'"
     ]
    }
   ],
   "source": [
    "zero_array = np.twoes((2,2))"
   ]
  },
  {
   "cell_type": "markdown",
   "id": "3d1951e0",
   "metadata": {},
   "source": [
    "## Linspace\n",
    "\n",
    "numpy.linespace(start,stop,num=)"
   ]
  },
  {
   "cell_type": "code",
   "execution_count": 26,
   "id": "3ea39606",
   "metadata": {},
   "outputs": [],
   "source": [
    "spaced_numbers = np.linspace(0,20,50)"
   ]
  },
  {
   "cell_type": "code",
   "execution_count": 28,
   "id": "a2d43d92",
   "metadata": {},
   "outputs": [
    {
     "data": {
      "text/plain": [
       "array([ 0.        ,  0.40816327,  0.81632653,  1.2244898 ,  1.63265306,\n",
       "        2.04081633,  2.44897959,  2.85714286,  3.26530612,  3.67346939,\n",
       "        4.08163265,  4.48979592,  4.89795918,  5.30612245,  5.71428571,\n",
       "        6.12244898,  6.53061224,  6.93877551,  7.34693878,  7.75510204,\n",
       "        8.16326531,  8.57142857,  8.97959184,  9.3877551 ,  9.79591837,\n",
       "       10.20408163, 10.6122449 , 11.02040816, 11.42857143, 11.83673469,\n",
       "       12.24489796, 12.65306122, 13.06122449, 13.46938776, 13.87755102,\n",
       "       14.28571429, 14.69387755, 15.10204082, 15.51020408, 15.91836735,\n",
       "       16.32653061, 16.73469388, 17.14285714, 17.55102041, 17.95918367,\n",
       "       18.36734694, 18.7755102 , 19.18367347, 19.59183673, 20.        ])"
      ]
     },
     "execution_count": 28,
     "metadata": {},
     "output_type": "execute_result"
    }
   ],
   "source": [
    "spaced_numbers"
   ]
  },
  {
   "cell_type": "markdown",
   "id": "1c80bf91",
   "metadata": {},
   "source": [
    "## 1D Array"
   ]
  },
  {
   "cell_type": "code",
   "execution_count": 55,
   "id": "7f1e857b",
   "metadata": {},
   "outputs": [],
   "source": [
    "import numpy"
   ]
  },
  {
   "cell_type": "code",
   "execution_count": 56,
   "id": "671c4977",
   "metadata": {},
   "outputs": [],
   "source": [
    "import numpy as ss"
   ]
  },
  {
   "cell_type": "code",
   "execution_count": 57,
   "id": "dfee1c3d",
   "metadata": {},
   "outputs": [],
   "source": [
    "first_array = ss.array([4,5,6])"
   ]
  },
  {
   "cell_type": "code",
   "execution_count": 58,
   "id": "6d6e7947",
   "metadata": {},
   "outputs": [
    {
     "data": {
      "text/plain": [
       "array([4, 5, 6])"
      ]
     },
     "execution_count": 58,
     "metadata": {},
     "output_type": "execute_result"
    }
   ],
   "source": [
    "first_array"
   ]
  },
  {
   "cell_type": "markdown",
   "id": "b78dfb46",
   "metadata": {},
   "source": [
    "## 2D array"
   ]
  },
  {
   "cell_type": "code",
   "execution_count": 59,
   "id": "1bfaa780",
   "metadata": {},
   "outputs": [],
   "source": [
    "second_array = ss.array([(8,3,2),(6,8,9)])"
   ]
  },
  {
   "cell_type": "code",
   "execution_count": 60,
   "id": "20375a7c",
   "metadata": {},
   "outputs": [
    {
     "data": {
      "text/plain": [
       "array([[8, 3, 2],\n",
       "       [6, 8, 9]])"
      ]
     },
     "execution_count": 60,
     "metadata": {},
     "output_type": "execute_result"
    }
   ],
   "source": [
    "second_array"
   ]
  },
  {
   "cell_type": "code",
   "execution_count": 61,
   "id": "c72217be",
   "metadata": {},
   "outputs": [],
   "source": [
    "third_array = ss.array([(75,78,98),(78,90,23)])"
   ]
  },
  {
   "cell_type": "code",
   "execution_count": 62,
   "id": "1bf9bdb5",
   "metadata": {},
   "outputs": [
    {
     "data": {
      "text/plain": [
       "array([[75, 78, 98],\n",
       "       [78, 90, 23]])"
      ]
     },
     "execution_count": 62,
     "metadata": {},
     "output_type": "execute_result"
    }
   ],
   "source": [
    "third_array"
   ]
  },
  {
   "cell_type": "code",
   "execution_count": 63,
   "id": "3bddcb29",
   "metadata": {},
   "outputs": [],
   "source": [
    "second_array  = ss.ones((2,2))"
   ]
  },
  {
   "cell_type": "code",
   "execution_count": 64,
   "id": "1e1dfa46",
   "metadata": {},
   "outputs": [
    {
     "data": {
      "text/plain": [
       "array([[1., 1.],\n",
       "       [1., 1.]])"
      ]
     },
     "execution_count": 64,
     "metadata": {},
     "output_type": "execute_result"
    }
   ],
   "source": [
    "second_array"
   ]
  },
  {
   "cell_type": "markdown",
   "id": "590a7955",
   "metadata": {},
   "source": [
    "## Transpose"
   ]
  },
  {
   "cell_type": "code",
   "execution_count": 65,
   "id": "6eb24bba",
   "metadata": {},
   "outputs": [],
   "source": [
    "matrix_transpose = ss.transpose(third_array)"
   ]
  },
  {
   "cell_type": "code",
   "execution_count": 66,
   "id": "6c92bb5c",
   "metadata": {},
   "outputs": [
    {
     "data": {
      "text/plain": [
       "array([[75, 78],\n",
       "       [78, 90],\n",
       "       [98, 23]])"
      ]
     },
     "execution_count": 66,
     "metadata": {},
     "output_type": "execute_result"
    }
   ],
   "source": [
    "matrix_transpose"
   ]
  },
  {
   "cell_type": "markdown",
   "id": "87164bd2",
   "metadata": {},
   "source": [
    "## Flattening Array"
   ]
  },
  {
   "cell_type": "code",
   "execution_count": 67,
   "id": "a86eab8c",
   "metadata": {},
   "outputs": [
    {
     "data": {
      "text/plain": [
       "array([1., 1., 1., 1.])"
      ]
     },
     "execution_count": 67,
     "metadata": {},
     "output_type": "execute_result"
    }
   ],
   "source": [
    "second_array.ravel()"
   ]
  },
  {
   "cell_type": "markdown",
   "id": "90439123",
   "metadata": {},
   "source": [
    "## Reshaping array"
   ]
  },
  {
   "cell_type": "code",
   "execution_count": 68,
   "id": "e12c5dfb",
   "metadata": {},
   "outputs": [
    {
     "data": {
      "text/plain": [
       "array([[4],\n",
       "       [5],\n",
       "       [6]])"
      ]
     },
     "execution_count": 68,
     "metadata": {},
     "output_type": "execute_result"
    }
   ],
   "source": [
    "first_array.reshape(3,1)"
   ]
  },
  {
   "cell_type": "markdown",
   "id": "21bf7b5a",
   "metadata": {},
   "source": [
    "## Array Resize"
   ]
  },
  {
   "cell_type": "code",
   "execution_count": 69,
   "id": "3b4d0596",
   "metadata": {},
   "outputs": [],
   "source": [
    "second_array.resize((2,2))"
   ]
  },
  {
   "cell_type": "code",
   "execution_count": 70,
   "id": "730fe8a7",
   "metadata": {},
   "outputs": [
    {
     "data": {
      "text/plain": [
       "array([[1., 1.],\n",
       "       [1., 1.]])"
      ]
     },
     "execution_count": 70,
     "metadata": {},
     "output_type": "execute_result"
    }
   ],
   "source": [
    "second_array"
   ]
  },
  {
   "cell_type": "markdown",
   "id": "d0e64474",
   "metadata": {},
   "source": [
    "## Appending in array"
   ]
  },
  {
   "cell_type": "code",
   "execution_count": 71,
   "id": "6c6f3aa3",
   "metadata": {},
   "outputs": [],
   "source": [
    "append_opr = np.append(first_array,second_array)"
   ]
  },
  {
   "cell_type": "code",
   "execution_count": 72,
   "id": "7ed7c0c6",
   "metadata": {},
   "outputs": [
    {
     "data": {
      "text/plain": [
       "array([4., 5., 6., 1., 1., 1., 1.])"
      ]
     },
     "execution_count": 72,
     "metadata": {},
     "output_type": "execute_result"
    }
   ],
   "source": [
    "append_opr"
   ]
  },
  {
   "cell_type": "markdown",
   "id": "d5c43ad8",
   "metadata": {},
   "source": [
    "## Inserting array"
   ]
  },
  {
   "cell_type": "code",
   "execution_count": 73,
   "id": "82c10a99",
   "metadata": {},
   "outputs": [],
   "source": [
    "insert_opr = np.insert(second_array,4,5)"
   ]
  },
  {
   "cell_type": "code",
   "execution_count": 74,
   "id": "ba44fb57",
   "metadata": {},
   "outputs": [
    {
     "data": {
      "text/plain": [
       "array([1., 1., 1., 1., 5.])"
      ]
     },
     "execution_count": 74,
     "metadata": {},
     "output_type": "execute_result"
    }
   ],
   "source": [
    "insert_opr"
   ]
  },
  {
   "cell_type": "code",
   "execution_count": 78,
   "id": "5b225e00",
   "metadata": {},
   "outputs": [],
   "source": [
    "insert2 = np.insert(second_array,3,10)"
   ]
  },
  {
   "cell_type": "code",
   "execution_count": 79,
   "id": "85f439f4",
   "metadata": {},
   "outputs": [
    {
     "data": {
      "text/plain": [
       "array([ 1.,  1.,  1., 10.,  1.])"
      ]
     },
     "execution_count": 79,
     "metadata": {},
     "output_type": "execute_result"
    }
   ],
   "source": [
    "insert2"
   ]
  },
  {
   "cell_type": "markdown",
   "id": "ccedaf81",
   "metadata": {},
   "source": [
    "## deleting array"
   ]
  },
  {
   "cell_type": "code",
   "execution_count": 80,
   "id": "86aecab0",
   "metadata": {},
   "outputs": [
    {
     "data": {
      "text/plain": [
       "array([ 1.,  1.,  1., 10.])"
      ]
     },
     "execution_count": 80,
     "metadata": {},
     "output_type": "execute_result"
    }
   ],
   "source": [
    "np.delete(insert2,[4])"
   ]
  },
  {
   "cell_type": "code",
   "execution_count": 81,
   "id": "713308b4",
   "metadata": {},
   "outputs": [
    {
     "data": {
      "text/plain": [
       "array([ 1., 10.,  1.])"
      ]
     },
     "execution_count": 81,
     "metadata": {},
     "output_type": "execute_result"
    }
   ],
   "source": [
    "ss.delete(insert2,[0,1])"
   ]
  },
  {
   "cell_type": "markdown",
   "id": "e17f9c1a",
   "metadata": {},
   "source": [
    "## Subsetting array"
   ]
  },
  {
   "cell_type": "code",
   "execution_count": 82,
   "id": "432d8c77",
   "metadata": {},
   "outputs": [
    {
     "data": {
      "text/plain": [
       "array([ 1.,  1.,  1., 10.,  1.])"
      ]
     },
     "execution_count": 82,
     "metadata": {},
     "output_type": "execute_result"
    }
   ],
   "source": [
    "insert_opr"
   ]
  },
  {
   "cell_type": "code",
   "execution_count": 85,
   "id": "0d363095",
   "metadata": {},
   "outputs": [
    {
     "data": {
      "text/plain": [
       "array([[1., 1.],\n",
       "       [1., 1.]])"
      ]
     },
     "execution_count": 85,
     "metadata": {},
     "output_type": "execute_result"
    }
   ],
   "source": [
    "second_array"
   ]
  },
  {
   "cell_type": "code",
   "execution_count": 86,
   "id": "f129c507",
   "metadata": {},
   "outputs": [
    {
     "data": {
      "text/plain": [
       "10.0"
      ]
     },
     "execution_count": 86,
     "metadata": {},
     "output_type": "execute_result"
    }
   ],
   "source": [
    "insert_opr[3]"
   ]
  },
  {
   "cell_type": "code",
   "execution_count": 88,
   "id": "4532aea4",
   "metadata": {},
   "outputs": [
    {
     "data": {
      "text/plain": [
       "1.0"
      ]
     },
     "execution_count": 88,
     "metadata": {},
     "output_type": "execute_result"
    }
   ],
   "source": [
    "second_array[0,1]"
   ]
  },
  {
   "cell_type": "markdown",
   "id": "007afc1e",
   "metadata": {},
   "source": [
    "## Slicing in array"
   ]
  },
  {
   "cell_type": "code",
   "execution_count": 90,
   "id": "ddf60d91",
   "metadata": {},
   "outputs": [
    {
     "data": {
      "text/plain": [
       "array([ 1.,  1.,  1., 10.,  1.])"
      ]
     },
     "execution_count": 90,
     "metadata": {},
     "output_type": "execute_result"
    }
   ],
   "source": [
    "insert2"
   ]
  },
  {
   "cell_type": "code",
   "execution_count": 95,
   "id": "204693ed",
   "metadata": {},
   "outputs": [
    {
     "data": {
      "text/plain": [
       "array([1., 1.])"
      ]
     },
     "execution_count": 95,
     "metadata": {},
     "output_type": "execute_result"
    }
   ],
   "source": [
    "insert2[0:2]"
   ]
  },
  {
   "cell_type": "code",
   "execution_count": 96,
   "id": "5eaba1bd",
   "metadata": {},
   "outputs": [
    {
     "data": {
      "text/plain": [
       "array([ 1., 10.,  1.])"
      ]
     },
     "execution_count": 96,
     "metadata": {},
     "output_type": "execute_result"
    }
   ],
   "source": [
    "insert2[2:]"
   ]
  },
  {
   "cell_type": "code",
   "execution_count": 97,
   "id": "d535fdba",
   "metadata": {},
   "outputs": [
    {
     "data": {
      "text/plain": [
       "array([[1., 1.],\n",
       "       [1., 1.]])"
      ]
     },
     "execution_count": 97,
     "metadata": {},
     "output_type": "execute_result"
    }
   ],
   "source": [
    "second_array"
   ]
  },
  {
   "cell_type": "code",
   "execution_count": 98,
   "id": "c707552e",
   "metadata": {},
   "outputs": [
    {
     "data": {
      "text/plain": [
       "array([[1., 1.]])"
      ]
     },
     "execution_count": 98,
     "metadata": {},
     "output_type": "execute_result"
    }
   ],
   "source": [
    "second_array[:1]"
   ]
  },
  {
   "cell_type": "markdown",
   "id": "5bebf948",
   "metadata": {},
   "source": [
    "## Creating empty array"
   ]
  },
  {
   "cell_type": "code",
   "execution_count": 100,
   "id": "b9eb7f3e",
   "metadata": {},
   "outputs": [
    {
     "data": {
      "text/plain": [
       "array([[1., 1.],\n",
       "       [1., 1.]])"
      ]
     },
     "execution_count": 100,
     "metadata": {},
     "output_type": "execute_result"
    }
   ],
   "source": [
    "ss.empty((2,2))"
   ]
  },
  {
   "cell_type": "markdown",
   "id": "01b0e329",
   "metadata": {},
   "source": [
    "## Array with Random numbers"
   ]
  },
  {
   "cell_type": "code",
   "execution_count": 101,
   "id": "49732049",
   "metadata": {},
   "outputs": [
    {
     "data": {
      "text/plain": [
       "array([[0.25445141, 0.81697639, 0.4709458 , 0.90195521],\n",
       "       [0.1878986 , 0.70874502, 0.46248799, 0.72466281],\n",
       "       [0.82824357, 0.89485749, 0.26837181, 0.84971037]])"
      ]
     },
     "execution_count": 101,
     "metadata": {},
     "output_type": "execute_result"
    }
   ],
   "source": [
    "ss.random.random((3,4))"
   ]
  },
  {
   "cell_type": "code",
   "execution_count": null,
   "id": "cfcf5455",
   "metadata": {},
   "outputs": [],
   "source": []
  }
 ],
 "metadata": {
  "kernelspec": {
   "display_name": "Python 3",
   "language": "python",
   "name": "python3"
  },
  "language_info": {
   "codemirror_mode": {
    "name": "ipython",
    "version": 3
   },
   "file_extension": ".py",
   "mimetype": "text/x-python",
   "name": "python",
   "nbconvert_exporter": "python",
   "pygments_lexer": "ipython3",
   "version": "3.8.8"
  }
 },
 "nbformat": 4,
 "nbformat_minor": 5
}
